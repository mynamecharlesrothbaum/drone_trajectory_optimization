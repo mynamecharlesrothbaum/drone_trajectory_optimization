{
 "cells": [
  {
   "cell_type": "code",
   "execution_count": null,
   "metadata": {},
   "outputs": [],
   "source": [
    "import numpy as np\n",
    "import matplotlib.pyplot as plt\n",
    "\n",
    "# Function to read the file and process the fitness values\n",
    "def process_fitness_data(filename):\n",
    "    with open(filename, 'r') as file:\n",
    "        lines = file.readlines()\n",
    "\n",
    "    # Convert each line to a float and group every four lines\n",
    "    fitness_values = [float(line.strip()) for line in lines]\n",
    "    epochs = [fitness_values[i:i+4] for i in range(0, len(fitness_values), 4)]\n",
    "\n",
    "    # Calculate the average and the lowest fitness for each epoch\n",
    "    avg_fitness = [np.mean(epoch) for epoch in epochs]\n",
    "    min_fitness = [np.min(epoch) for epoch in epochs]\n",
    "    \n",
    "    return avg_fitness, min_fitness\n",
    "\n",
    "# Function to plot the data\n",
    "def plot_fitness(avg_fitness, min_fitness):\n",
    "    epochs = range(1, len(avg_fitness) + 1)\n",
    "    plt.figure(figsize=(10, 5))\n",
    "    plt.plot(epochs, avg_fitness, label='Average Fitness', marker='o')\n",
    "    plt.plot(epochs, min_fitness, label='Lowest Fitness', marker='x')\n",
    "    plt.xlabel('Epoch')\n",
    "    plt.ylabel('Fitness')\n",
    "    plt.title('Fitness Statistics per Epoch')\n",
    "    plt.legend()\n",
    "    plt.grid(True)\n",
    "    plt.show()\n",
    "\n",
    "# Main script\n",
    "filename = 'fitness_data.txt'  # Replace with your file path\n",
    "avg_fitness, min_fitness = process_fitness_data(filename)\n",
    "plot_fitness(avg_fitness, min_fitness)\n"
   ]
  }
 ],
 "metadata": {
  "language_info": {
   "name": "python"
  }
 },
 "nbformat": 4,
 "nbformat_minor": 2
}
